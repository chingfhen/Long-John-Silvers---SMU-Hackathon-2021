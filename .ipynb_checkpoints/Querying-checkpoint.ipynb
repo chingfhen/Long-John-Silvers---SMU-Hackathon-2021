{
 "cells": [
  {
   "cell_type": "code",
   "execution_count": 8,
   "id": "6c3d3190",
   "metadata": {},
   "outputs": [],
   "source": [
    "import os\n",
    "import utils\n",
    "import preprocess\n",
    "import encoders\n",
    "import datastore\n",
    "import yaml\n",
    "from haystack.schema import Document"
   ]
  },
  {
   "cell_type": "code",
   "execution_count": 9,
   "id": "f7446dbd",
   "metadata": {},
   "outputs": [],
   "source": [
    "with open(r\"C:\\Users\\tanch\\Documents\\Coding Competitions\\SMU\\SMU HACKATHON 2021\\Long-John-Silvers---SMU-Hackathon-2021\\config.yaml\") as f:\n",
    "    config = yaml.load(f, Loader=yaml.FullLoader)"
   ]
  },
  {
   "cell_type": "markdown",
   "id": "bccdae40",
   "metadata": {},
   "source": [
    "# query()\n",
    "- returns k most similar passages(sorted), given a query"
   ]
  },
  {
   "cell_type": "code",
   "execution_count": 32,
   "id": "cc881921",
   "metadata": {},
   "outputs": [],
   "source": [
    "from datetime import date\n",
    "import pandas as pd\n",
    "def query(query: str,  top_k = 3, max_words = 30):\n",
    "    today = date.today()\n",
    "    date_range = list(pd.date_range(start=today,periods=100))\n",
    "    query_embedding = encoders.bi_encoder.encode(query, show_progress_bar = False)\n",
    "    hits = datastore.datastore.query_by_embedding(query_embedding,top_k = 10,filters = {\"end_date\":date_range})   # bi encoder retrieve\n",
    "    shortened_hits = []\n",
    "    for hit in hits:\n",
    "        shortened_hits.extend(preprocess.split_document(hit,max_words))\n",
    "    for hit in shortened_hits:\n",
    "        if not isinstance(hit,Document):\n",
    "            hit = Document(**hit)\n",
    "        hit.score = encoders.cross_encoder.predict([query,hit.text], show_progress_bar = False)# cross encoder rerank\n",
    "    output = []\n",
    "    for hit in shortened_hits:\n",
    "        if isinstance(hit,dict):\n",
    "            continue\n",
    "        output.append(hit)\n",
    "    return sorted(output,key = lambda x: x.score, reverse = True)[:top_k]"
   ]
  },
  {
   "cell_type": "code",
   "execution_count": 34,
   "id": "c667678b",
   "metadata": {
    "scrolled": true
   },
   "outputs": [
    {
     "name": "stderr",
     "output_type": "stream",
     "text": [
      "08/14/2021 21:15:20 - INFO - elasticsearch -   POST http://localhost:9200/covid_datastore/_search [status:200 request:0.031s]\n",
      "08/14/2021 21:15:20 - WARNING - haystack.preprocessor.preprocessor -   A sentence found with word count higher than the split length.\n",
      "08/14/2021 21:15:20 - WARNING - haystack.preprocessor.preprocessor -   A sentence found with word count higher than the split length.\n",
      "08/14/2021 21:15:20 - WARNING - haystack.preprocessor.preprocessor -   A sentence found with word count higher than the split length.\n",
      "08/14/2021 21:15:20 - WARNING - haystack.preprocessor.preprocessor -   A sentence found with word count higher than the split length.\n",
      "08/14/2021 21:15:20 - WARNING - haystack.preprocessor.preprocessor -   A sentence found with word count higher than the split length.\n",
      "08/14/2021 21:15:20 - WARNING - haystack.preprocessor.preprocessor -   A sentence found with word count higher than the split length.\n",
      "08/14/2021 21:15:20 - WARNING - haystack.preprocessor.preprocessor -   A sentence found with word count higher than the split length.\n",
      "08/14/2021 21:15:20 - WARNING - haystack.preprocessor.preprocessor -   A sentence found with word count higher than the split length.\n",
      "08/14/2021 21:15:20 - WARNING - haystack.preprocessor.preprocessor -   A sentence found with word count higher than the split length.\n",
      "08/14/2021 21:15:20 - WARNING - haystack.preprocessor.preprocessor -   A sentence found with word count higher than the split length.\n",
      "08/14/2021 21:15:20 - WARNING - haystack.preprocessor.preprocessor -   A sentence found with word count higher than the split length.\n",
      "08/14/2021 21:15:20 - WARNING - haystack.preprocessor.preprocessor -   A sentence found with word count higher than the split length.\n",
      "08/14/2021 21:15:20 - WARNING - haystack.preprocessor.preprocessor -   A sentence found with word count higher than the split length.\n"
     ]
    },
    {
     "data": {
      "text/plain": [
       "[{'text': 'g. The maximum capacity for both indoor and outdoor shows can be increased to 1,000 pax of up to 50 pax per zone provided all attendees are fully vaccinated1, or remain at 50 pax without PET, or the safe venue capacity with SMMs in place, whichever is lower.', 'score': 4.2005997, 'probability': 0.7504999999999882, 'question': None, 'meta': {'end_date': '2021-09-10T00:00:00', '_split_id': 0, 'category': None, 'start_date': '2021-08-10T00:00:00', 'name': 'passage'}, 'embedding': None, 'id': '52b2a97ad06a95d2e0f680c0e7fdbb2b'},\n",
       " {'text': 'd. The maximum capacity for both indoor and outdoor shows[3] can be increased to up to 500 pax of up to 50 pax per zone provided all attendees are fully vaccinated1, or remain at 50 pax without Pre-Event Testing (“PET”)[4], or the safe venue capacity with Safe Management Measures (“SMMs”) in place, whichever is lower.', 'score': 4.01702, 'probability': 0.7231750000000261, 'question': None, 'meta': {'end_date': '2021-09-10T00:00:00', '_split_id': 2, 'category': None, 'start_date': '2021-08-10T00:00:00', 'name': 'passage'}, 'embedding': None, 'id': 'c13fa76d078995ca53fc5f12bc952d1'},\n",
       " {'text': 'h. The maximum capacity of conveyance tours can be increased to 50 pax while the maximum capacity of non-conveyance tours will remain at 20 pax, with groups of no more than 5 pax within each such tour.', 'score': 3.2950282, 'probability': 0.7504999999999882, 'question': None, 'meta': {'end_date': '2021-09-10T00:00:00', '_split_id': 1, 'category': None, 'start_date': '2021-08-10T00:00:00', 'name': 'passage'}, 'embedding': None, 'id': '52b2a97ad06a95d2e0f680c0e7fdbb2b'}]"
      ]
     },
     "execution_count": 34,
     "metadata": {},
     "output_type": "execute_result"
    }
   ],
   "source": [
    "query(\"max capacity for\", top_k = 3, max_words = 30)"
   ]
  },
  {
   "cell_type": "markdown",
   "id": "b45e176a",
   "metadata": {},
   "source": [
    "# get_summaries()\n",
    "- return the Covid 19 Regulation Summaries, given a list of categories"
   ]
  },
  {
   "cell_type": "code",
   "execution_count": 35,
   "id": "33f22562",
   "metadata": {},
   "outputs": [],
   "source": [
    "def get_summaries(categories:list):\n",
    "    today = date.today()\n",
    "    date_range = list(pd.date_range(start=today,periods=100))\n",
    "    return datastore.datastore.get_all_documents(config['index'],filters = {\"category\":categories,\"end_date\":date_range}) "
   ]
  },
  {
   "cell_type": "code",
   "execution_count": 36,
   "id": "1cfe4da5",
   "metadata": {},
   "outputs": [
    {
     "name": "stderr",
     "output_type": "stream",
     "text": [
      "08/14/2021 21:48:38 - INFO - elasticsearch -   POST http://localhost:9200/covid_datastore/_search?scroll=1d&size=10000 [status:200 request:0.006s]\n",
      "08/14/2021 21:48:38 - INFO - elasticsearch -   POST http://localhost:9200/_search/scroll [status:200 request:0.003s]\n",
      "08/14/2021 21:48:38 - INFO - elasticsearch -   DELETE http://localhost:9200/_search/scroll [status:200 request:0.002s]\n"
     ]
    },
    {
     "data": {
      "text/plain": [
       "[{'text': 'MICE = Meetings, incentives, conferences and exhibitions\\nFrom 10 Aug:\\nUp to 500 attendees if all vaccinated*; up to 50 persons if unvaccinated; provision for children 12 years and below applies^\\nUnmasking may resume, subject to updated safe management measures\\nFrom 19 August:\\nUp to 1,000 attendees if all vaccinated*; up to 50 attendees if unvaccinated; provision for children 12 years and below applies^', 'score': None, 'probability': None, 'question': None, 'meta': {'start_date': '2021-08-10T00:00:00', 'end_date': '2021-08-19T00:00:00', 'category': 'mice events', 'name': 'summary'}, 'embedding': None, 'id': 'f2a7b621b1dfb1a46d5e4d61f81906c7'},\n",
       " {'text': 'Current rules since 22 July:\\nWork-from-home as the default\\nNo cross-deployment\\nSocial gatherings not allowed\\nFrom 19 August:\\nUp to 50% of employees who can work from home can return to the workplace\\nSocial gatherings allowed', 'score': None, 'probability': None, 'question': None, 'meta': {'start_date': '2021-08-10T00:00:00', 'end_date': '2021-08-19T00:00:00', 'category': 'workplace', 'name': 'summary'}, 'embedding': None, 'id': 'bebf57f3fd92f856f3434d42a34fbc74'}]"
      ]
     },
     "execution_count": 36,
     "metadata": {},
     "output_type": "execute_result"
    }
   ],
   "source": [
    "get_summaries([\"mice events\",'workplace'])"
   ]
  },
  {
   "cell_type": "code",
   "execution_count": null,
   "id": "ea0d2357",
   "metadata": {},
   "outputs": [],
   "source": []
  }
 ],
 "metadata": {
  "kernelspec": {
   "display_name": "Python 3",
   "language": "python",
   "name": "python3"
  },
  "language_info": {
   "codemirror_mode": {
    "name": "ipython",
    "version": 3
   },
   "file_extension": ".py",
   "mimetype": "text/x-python",
   "name": "python",
   "nbconvert_exporter": "python",
   "pygments_lexer": "ipython3",
   "version": "3.8.8"
  }
 },
 "nbformat": 4,
 "nbformat_minor": 5
}
