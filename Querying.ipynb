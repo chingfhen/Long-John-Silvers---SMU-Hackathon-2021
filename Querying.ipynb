{
 "cells": [
  {
   "cell_type": "code",
   "execution_count": 1,
   "id": "6c3d3190",
   "metadata": {},
   "outputs": [
    {
     "name": "stderr",
     "output_type": "stream",
     "text": [
      "08/14/2021 15:02:53 - INFO - farm.modeling.prediction_head -   Better speed can be achieved with apex installed from https://www.github.com/nvidia/apex .\n",
      "08/14/2021 15:02:54 - INFO - sentence_transformers.SentenceTransformer -   Load pretrained SentenceTransformer: paraphrase-mpnet-base-v2\n",
      "08/14/2021 15:02:55 - INFO - sentence_transformers.SentenceTransformer -   Use pytorch device: cpu\n",
      "08/14/2021 15:03:03 - INFO - sentence_transformers.cross_encoder.CrossEncoder -   Use pytorch device: cpu\n"
     ]
    }
   ],
   "source": [
    "import os\n",
    "import utils\n",
    "import preprocess\n",
    "import encoders\n",
    "import datastore\n",
    "import yaml"
   ]
  },
  {
   "cell_type": "code",
   "execution_count": 2,
   "id": "f7446dbd",
   "metadata": {},
   "outputs": [
    {
     "name": "stdout",
     "output_type": "stream",
     "text": [
      "{'index': 'covid_datastore', 'bi_encoder': 'paraphrase-mpnet-base-v2', 'cross_encoder': 'cross-encoder/ms-marco-MiniLM-L-6-v2', 'vector_similarity': 'cosine', 'directory': 'C:\\\\Users\\\\tanch\\\\Documents\\\\Coding Competitions\\\\SMU\\\\SMU HACKATHON 2021\\\\Long-John-Silvers---SMU-Hackathon-2021\\\\data'}\n"
     ]
    }
   ],
   "source": [
    "with open(r\"C:\\Users\\tanch\\Documents\\Coding Competitions\\SMU\\SMU HACKATHON 2021\\config.yaml\") as f:\n",
    "    config = yaml.load(f, Loader=yaml.FullLoader)\n",
    "    print(config)"
   ]
  },
  {
   "cell_type": "markdown",
   "id": "bccdae40",
   "metadata": {},
   "source": [
    "# query()\n",
    "- returns k most similar passages(sorted), given a query"
   ]
  },
  {
   "cell_type": "code",
   "execution_count": 3,
   "id": "cc881921",
   "metadata": {},
   "outputs": [],
   "source": [
    "from datetime import date\n",
    "import pandas as pd\n",
    "def query(query: str,  top_k = 3, max_words = 30):\n",
    "    today = date.today()\n",
    "    date_range = list(pd.date_range(start=today,periods=100))\n",
    "    query_embedding = encoders.bi_encoder.encode(query, show_progress_bar = False)\n",
    "    hits = datastore.datastore.query_by_embedding(query_embedding,top_k = 10,filters = {\"end_date\":date_range})   # bi encoder retrieve\n",
    "    shortened_hits = []\n",
    "    for hit in hits:\n",
    "        shortened_hits.extend(preprocess.split_document(hit,max_words))\n",
    "    for hit in shortened_hits:\n",
    "        hit.score = encoders.cross_encoder.predict([query,hit.text], show_progress_bar = False)                                          # cross encoder rerank\n",
    "    return sorted(hits,key = lambda x: x.score, reverse = True)[:top_k]"
   ]
  },
  {
   "cell_type": "code",
   "execution_count": 4,
   "id": "c667678b",
   "metadata": {
    "scrolled": true
   },
   "outputs": [
    {
     "name": "stderr",
     "output_type": "stream",
     "text": [
      "C:\\Users\\tanch\\anaconda3\\lib\\site-packages\\elasticsearch\\connection\\base.py:190: ElasticsearchDeprecationWarning: Elasticsearch built-in security features are not enabled. Without authentication, your cluster could be accessible to anyone. See https://www.elastic.co/guide/en/elasticsearch/reference/7.13/security-minimal-setup.html to enable security.\n",
      "  warnings.warn(message, category=ElasticsearchDeprecationWarning)\n",
      "08/14/2021 15:03:03 - INFO - elasticsearch -   POST http://localhost:9200/covid_datastore/_search [status:200 request:0.039s]\n",
      "08/14/2021 15:03:03 - WARNING - haystack.preprocessor.preprocessor -   A sentence found with word count higher than the split length.\n",
      "08/14/2021 15:03:03 - WARNING - haystack.preprocessor.preprocessor -   A sentence found with word count higher than the split length.\n",
      "08/14/2021 15:03:03 - WARNING - haystack.preprocessor.preprocessor -   A sentence found with word count higher than the split length.\n",
      "08/14/2021 15:03:03 - WARNING - haystack.preprocessor.preprocessor -   A sentence found with word count higher than the split length.\n",
      "08/14/2021 15:03:03 - WARNING - haystack.preprocessor.preprocessor -   A sentence found with word count higher than the split length.\n",
      "08/14/2021 15:03:03 - WARNING - haystack.preprocessor.preprocessor -   A sentence found with word count higher than the split length.\n",
      "08/14/2021 15:03:03 - WARNING - haystack.preprocessor.preprocessor -   A sentence found with word count higher than the split length.\n",
      "08/14/2021 15:03:03 - WARNING - haystack.preprocessor.preprocessor -   A sentence found with word count higher than the split length.\n",
      "08/14/2021 15:03:03 - WARNING - haystack.preprocessor.preprocessor -   A sentence found with word count higher than the split length.\n",
      "08/14/2021 15:03:03 - WARNING - haystack.preprocessor.preprocessor -   A sentence found with word count higher than the split length.\n",
      "08/14/2021 15:03:03 - WARNING - haystack.preprocessor.preprocessor -   A sentence found with word count higher than the split length.\n",
      "08/14/2021 15:03:03 - WARNING - haystack.preprocessor.preprocessor -   A sentence found with word count higher than the split length.\n"
     ]
    },
    {
     "data": {
      "text/plain": [
       "[{'text': 'Any employee who is feeling unwell or showing symptoms of illness should report to his employer, leave the workplace and consult a doctor immediately, even if symptoms may appear mild. Employers must track and record these cases as part of Safe Management Measures. For incapacitated or unconscious individuals, employers must clear the area of other personnel and administer aid immediately. Employers should call 995 for an emergency ambulance to ferry them to the nearest hospital. Manage confirmed cases: A follow-up plan must be put in place in the event of a confirmed case. Upon being notified of a confirmed case, employers must adopt the following precautionary measures: Immediately vacate and cordon-off the immediate section of the workplace premises where the confirmed case worked.', 'score': 0.6463999999999714, 'probability': 0.8231999999999857, 'question': None, 'meta': {'end_date': '2021-09-30T00:00:00', '_split_id': 24, 'category': None, 'start_date': '2021-08-19T00:00:00', 'name': 'passage'}, 'embedding': None, 'id': 'ceb361b6aa75429df512f89249d9544c'},\n",
       " {'text': 'Where possible, employers should ensure that each employee visits only one clinic for check-ups if unwell. Otherwise, employees should inform the clinic of all recent doctor visits over past 14 days for any symptoms that may be related to COVID-1926. Manage unwell cases: An evacuation plan must be prepared for unwell or suspected cases, as well as for other onsite personnel. Any employee who is feeling unwell or showing symptoms of illness should report to his employer, leave the workplace and consult a doctor immediately, even if symptoms may appear mild. Employers must track and record these cases as part of Safe Management Measures. For incapacitated or unconscious individuals, employers must clear the area of other personnel and administer aid immediately. Employers should call 995 for an emergency ambulance to ferry them to the nearest hospital.', 'score': 0.6176000000000386, 'probability': 0.8088000000000193, 'question': None, 'meta': {'end_date': '2021-09-30T00:00:00', '_split_id': 23, 'category': None, 'start_date': '2021-08-19T00:00:00', 'name': 'passage'}, 'embedding': None, 'id': '6830687fd4865c45b5ecba3b3c4fa150'},\n",
       " {'text': 'Employers must take preventive action to guard against incipient outbreaks at the workplace, such as advising employees who are unwell to stay home and consult a doctor rather than going to the workplace, requiring these employees on MCs to closely monitor their health before returning to the workplace and requiring these employees’ close contacts at the workplace to monitor their health more regularly. Where possible, employers should ensure that each employee visits only one clinic for check-ups if unwell. Otherwise, employees should inform the clinic of all recent doctor visits over past 14 days for any symptoms that may be related to COVID-1926. Manage unwell cases: An evacuation plan must be prepared for unwell or suspected cases, as well as for other onsite personnel.', 'score': 0.5986000000000331, 'probability': 0.7993000000000166, 'question': None, 'meta': {'end_date': '2021-09-30T00:00:00', '_split_id': 22, 'category': None, 'start_date': '2021-08-19T00:00:00', 'name': 'passage'}, 'embedding': None, 'id': '8d38653f01b346e6d5869d499d879084'}]"
      ]
     },
     "execution_count": 4,
     "metadata": {},
     "output_type": "execute_result"
    }
   ],
   "source": [
    "query(\"sick employees\", top_k = 3, max_words = 30)"
   ]
  },
  {
   "cell_type": "markdown",
   "id": "b45e176a",
   "metadata": {},
   "source": [
    "# get_summaries()\n",
    "- return the Covid 19 Regulation Summaries, given a list of categories"
   ]
  },
  {
   "cell_type": "code",
   "execution_count": null,
   "id": "33f22562",
   "metadata": {},
   "outputs": [],
   "source": [
    "def get_summaries(categories:list):\n",
    "    today = date.today()\n",
    "    date_range = list(pd.date_range(start=today,periods=100))\n",
    "    return datastore.datastore.get_all_documents(config['index'],filters = {\"category\":categories,\"end_date\":date_range}) "
   ]
  },
  {
   "cell_type": "code",
   "execution_count": null,
   "id": "1cfe4da5",
   "metadata": {},
   "outputs": [],
   "source": [
    "get_summaries([\"sports\"])"
   ]
  },
  {
   "cell_type": "code",
   "execution_count": null,
   "id": "d92aa9c7",
   "metadata": {},
   "outputs": [],
   "source": [
    "datastore.datastore.get_all_documents()"
   ]
  }
 ],
 "metadata": {
  "kernelspec": {
   "display_name": "Python 3",
   "language": "python",
   "name": "python3"
  },
  "language_info": {
   "codemirror_mode": {
    "name": "ipython",
    "version": 3
   },
   "file_extension": ".py",
   "mimetype": "text/x-python",
   "name": "python",
   "nbconvert_exporter": "python",
   "pygments_lexer": "ipython3",
   "version": "3.8.8"
  }
 },
 "nbformat": 4,
 "nbformat_minor": 5
}
